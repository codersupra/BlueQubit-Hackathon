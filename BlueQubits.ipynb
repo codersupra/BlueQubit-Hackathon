{
  "nbformat": 4,
  "nbformat_minor": 0,
  "metadata": {
    "colab": {
      "provenance": []
    },
    "kernelspec": {
      "name": "python3",
      "display_name": "Python 3"
    },
    "language_info": {
      "name": "python"
    }
  },
  "cells": [
    {
      "cell_type": "markdown",
      "source": [
        "# BlueQubit Quantum Hackathon\n",
        "This project implements solutions to the \"Peaked Circuits\" challenge - a novel approach for verifiable quantum advantage introduced by Scott Aaronson. Peaked circuits are specially designed quantum circuits that produce a non-uniform output distribution with one dominant bitstring (probability O(1)), unlike random circuits where outputs have exponentially small amplitudes."
      ],
      "metadata": {
        "id": "ggGT-r8IceOq"
      }
    },
    {
      "cell_type": "code",
      "execution_count": null,
      "metadata": {
        "id": "yct-ep6LaI0Q"
      },
      "outputs": [],
      "source": [
        "!pip install qiskit['visualization']\n",
        "!pip install qiskit_aer\n",
        "!pip install qiskit_ibm_runtime\n",
        "!pip install bluequbit"
      ]
    },
    {
      "cell_type": "code",
      "source": [
        "from qiskit import QuantumCircuit, transpile\n",
        "from qiskit_aer import AerSimulator\n",
        "from qiskit.visualization import plot_histogram\n",
        "from qiskit.visualization import plot_histogram, plot_distribution\n",
        "from qiskit.transpiler.preset_passmanagers import generate_preset_pass_manager\n",
        "from qiskit_ibm_runtime.fake_provider import FakeManilaV2\n",
        "import bluequbit\n",
        "from qiskit_ibm_runtime import SamplerV2 as Sampler, QiskitRuntimeService"
      ],
      "metadata": {
        "id": "2KxQ8hplaiw7"
      },
      "execution_count": null,
      "outputs": []
    },
    {
      "cell_type": "markdown",
      "source": [
        "# Problem -1\n"
      ],
      "metadata": {
        "id": "Dw8MRu35alFD"
      }
    },
    {
      "cell_type": "code",
      "source": [
        "qc = QuantumCircuit.from_qasm_file('P1_little_peak.qasm')\n",
        "qc.measure_all()\n",
        "qc.draw('mpl')"
      ],
      "metadata": {
        "id": "ucteN-ZKajZa"
      },
      "execution_count": null,
      "outputs": []
    },
    {
      "cell_type": "code",
      "source": [
        "simulator_aer = AerSimulator()\n",
        "qc_aer = transpile(qc, backend = simulator_aer)\n",
        "\n",
        "job = simulator_aer.run(qc_aer)\n",
        "results = job.result()\n",
        "counts = results.get_counts()\n",
        "print(counts)"
      ],
      "metadata": {
        "id": "iWFQgg0sa0w6"
      },
      "execution_count": null,
      "outputs": []
    },
    {
      "cell_type": "code",
      "source": [
        "plot_distribution(counts)"
      ],
      "metadata": {
        "id": "dEaqJ0Oqa3_a"
      },
      "execution_count": null,
      "outputs": []
    },
    {
      "cell_type": "markdown",
      "source": [
        "# Problem - 2"
      ],
      "metadata": {
        "id": "KERL6E3ra7oF"
      }
    },
    {
      "cell_type": "code",
      "source": [
        "qc = QuantumCircuit.from_qasm_file('P2_swift_rise.qasm')\n",
        "qc.measure_all()\n",
        "qc.draw('mpl')"
      ],
      "metadata": {
        "id": "db_pEnd2a-qD"
      },
      "execution_count": null,
      "outputs": []
    },
    {
      "cell_type": "code",
      "source": [
        "simulator_aer = AerSimulator()\n",
        "qc_aer = transpile(qc, backend = simulator_aer)\n",
        "\n",
        "job = simulator_aer.run(qc_aer, shots = 1024)\n",
        "results = job.result()\n",
        "counts = results.get_counts()\n",
        "print(counts)"
      ],
      "metadata": {
        "id": "sBsp9vYibDq6"
      },
      "execution_count": null,
      "outputs": []
    },
    {
      "cell_type": "code",
      "source": [
        "max_bitstring = max(counts, key=counts.get)\n",
        "max_count = counts[max_bitstring]\n",
        "\n",
        "print(f\"Most frequent bit string: {max_bitstring} with {max_count} counts\")\n",
        "plot_distribution(counts)"
      ],
      "metadata": {
        "id": "m6TDKbSEbKxB"
      },
      "execution_count": null,
      "outputs": []
    },
    {
      "cell_type": "markdown",
      "source": [
        "# Problem - 3"
      ],
      "metadata": {
        "id": "IdgPSye6bSsc"
      }
    },
    {
      "cell_type": "code",
      "source": [
        "qc = QuantumCircuit.from_qasm_file('P3__sharp_peak.qasm')\n",
        "qc.measure_all()\n",
        "qc.draw('mpl')"
      ],
      "metadata": {
        "id": "9Z1zhq_3bUl6"
      },
      "execution_count": null,
      "outputs": []
    },
    {
      "cell_type": "code",
      "source": [
        "simulator = AerSimulator(method='matrix_product_state')  # or 'statevector'\n",
        "job = simulator.run(qc, shots=1024)\n",
        "result = job.result()\n",
        "counts = result.get_counts()\n",
        "print(counts)"
      ],
      "metadata": {
        "id": "xnwWHKTHbeOh"
      },
      "execution_count": null,
      "outputs": []
    },
    {
      "cell_type": "code",
      "source": [
        "max_bitstring = max(counts, key=counts.get)\n",
        "max_count = counts[max_bitstring]\n",
        "\n",
        "print(f\"Most frequent bit string: {max_bitstring} with {max_count} counts\")\n",
        "plot_distribution(counts)"
      ],
      "metadata": {
        "id": "xmGSV_Sqbj-b"
      },
      "execution_count": null,
      "outputs": []
    }
  ]
}